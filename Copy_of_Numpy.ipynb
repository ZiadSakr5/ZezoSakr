{
  "nbformat": 4,
  "nbformat_minor": 0,
  "metadata": {
    "colab": {
      "provenance": [],
      "include_colab_link": true
    },
    "kernelspec": {
      "name": "python3",
      "display_name": "Python 3"
    },
    "language_info": {
      "name": "python"
    }
  },
  "cells": [
    {
      "cell_type": "markdown",
      "metadata": {
        "id": "view-in-github",
        "colab_type": "text"
      },
      "source": [
        "<a href=\"https://colab.research.google.com/github/ZiadSakr5/ZezoSakr/blob/develop/Copy_of_Numpy.ipynb\" target=\"_parent\"><img src=\"https://colab.research.google.com/assets/colab-badge.svg\" alt=\"Open In Colab\"/></a>"
      ]
    },
    {
      "cell_type": "markdown",
      "source": [
        "# NumPy Practice Notebook\n",
        "\n",
        "This notebook contains a series of practice problems to help you understand and apply core concepts in NumPy.\n",
        "\n",
        "---\n",
        "\n",
        "## 🧩 1. Array Creation\n",
        "**Question:** Create the following arrays using NumPy:\n",
        "1. A 1D array with numbers from 0 to 9\n",
        "2. A 2D array of shape (3, 3) filled with zeros\n",
        "3. A 2D array of shape (2, 4) filled with ones\n",
        "4. A 3x3 identity matrix\n",
        "\n",
        "\n",
        "---\n"
      ],
      "metadata": {
        "id": "DIl4swbP_Iux"
      }
    },
    {
      "cell_type": "code",
      "source": [
        "import numpy as np\n",
        "print(np.array([0,1,2,3,4,5,6,7,8,9]))\n",
        "print(np.zeros((3,3)))\n",
        "print(np.ones((2,4)))\n",
        "print(np.eye(3))"
      ],
      "metadata": {
        "id": "Z2WD9-cU_6y8",
        "colab": {
          "base_uri": "https://localhost:8080/"
        },
        "outputId": "573df86f-1b26-4428-def5-3c3375bce7b4"
      },
      "execution_count": 2,
      "outputs": [
        {
          "output_type": "stream",
          "name": "stdout",
          "text": [
            "[0 1 2 3 4 5 6 7 8 9]\n",
            "[[0. 0. 0.]\n",
            " [0. 0. 0.]\n",
            " [0. 0. 0.]]\n",
            "[[1. 1. 1. 1.]\n",
            " [1. 1. 1. 1.]]\n",
            "[[1. 0. 0.]\n",
            " [0. 1. 0.]\n",
            " [0. 0. 1.]]\n"
          ]
        }
      ]
    },
    {
      "cell_type": "markdown",
      "source": [
        "\n",
        "## 🧪 2. Array Inspection\n",
        "**Question:** Given a NumPy array `arr`, print:\n",
        "1. Its shape\n",
        "2. Its data type\n",
        "3. The number of dimensions\n",
        "4. The total number of elements\n",
        "\n",
        "```python\n",
        "arr = np.array([[1, 2, 3], [4, 5, 6]])\n",
        "\n",
        "```\n",
        "\n",
        "---\n"
      ],
      "metadata": {
        "id": "UAFotM1N_h8t"
      }
    },
    {
      "cell_type": "code",
      "source": [
        "arr = np.array([[1, 2, 3], [4, 5, 6]])\n",
        "print(arr.shape)\n",
        "print(arr.dtype)\n",
        "print(arr.ndim)\n",
        "print(arr.size)"
      ],
      "metadata": {
        "colab": {
          "base_uri": "https://localhost:8080/"
        },
        "id": "IUn-AdmP_Ckr",
        "outputId": "dff2c75c-177c-47c7-d916-a20dbcc616db"
      },
      "execution_count": 3,
      "outputs": [
        {
          "output_type": "stream",
          "name": "stdout",
          "text": [
            "(2, 3)\n",
            "int64\n",
            "2\n",
            "6\n"
          ]
        }
      ]
    },
    {
      "cell_type": "markdown",
      "source": [
        "\n",
        "## 🔍 3. Indexing and Slicing\n",
        "**Question:** Using the array below, do the following:\n",
        "1. Slice the first two rows\n",
        "2. Get the last column\n",
        "3. Extract the element in the second row and third column\n",
        "4. Reverse the rows\n",
        "\n",
        "```python\n",
        "arr = np.array([[10, 20, 30], [40, 50, 60], [70, 80, 90]])\n",
        "\n",
        "```\n"
      ],
      "metadata": {
        "id": "ssUHqVJR_lyu"
      }
    },
    {
      "cell_type": "code",
      "source": [
        "arr = np.array([[10, 20, 30], [40, 50, 60], [70, 80, 90]])\n",
        "print(arr[:2])\n",
        "\n",
        "print(arr[:,2])\n",
        "\n",
        "print(arr[1,2])\n",
        "\n",
        "print(arr[::-1])"
      ],
      "metadata": {
        "id": "EHK3lYVn_8vR",
        "colab": {
          "base_uri": "https://localhost:8080/"
        },
        "outputId": "e6c2529b-e846-4c27-b72b-9b795f9ad880"
      },
      "execution_count": 4,
      "outputs": [
        {
          "output_type": "stream",
          "name": "stdout",
          "text": [
            "[[10 20 30]\n",
            " [40 50 60]]\n",
            "[30 60 90]\n",
            "60\n",
            "[[70 80 90]\n",
            " [40 50 60]\n",
            " [10 20 30]]\n"
          ]
        }
      ]
    },
    {
      "cell_type": "markdown",
      "source": [
        "\n",
        "---\n",
        "\n",
        "## 🔁 4. More Slicing Practice\n",
        "**Question:**\n",
        "Given the array below, extract:\n",
        "1. All even numbers\n",
        "2. The second and third rows\n",
        "3. The last two columns\n",
        "4. A subarray containing the middle 2x2 block\n",
        "\n",
        "```python\n",
        "arr = np.array([[1, 2, 3, 4],\n",
        "                [5, 6, 7, 8],\n",
        "                [9, 10, 11, 12],\n",
        "                [13, 14, 15, 16]])\n",
        "\n",
        "```\n"
      ],
      "metadata": {
        "id": "DwYyM0b1_nA5"
      }
    },
    {
      "cell_type": "code",
      "source": [
        "arr = np.array([[1, 2, 3, 4],\n",
        "                [5, 6, 7, 8],\n",
        "                [9, 10, 11, 12],\n",
        "                [13, 14, 15, 16]])\n",
        "print(arr[arr%2==0])\n",
        "print(arr[1:3])\n",
        "print(arr[:,2:])\n",
        "print(arr[1:3,1:3])"
      ],
      "metadata": {
        "id": "Z9dvnQF2_9xI",
        "colab": {
          "base_uri": "https://localhost:8080/"
        },
        "outputId": "b972935d-bc07-411d-acf1-d182179bf52b"
      },
      "execution_count": 5,
      "outputs": [
        {
          "output_type": "stream",
          "name": "stdout",
          "text": [
            "[ 2  4  6  8 10 12 14 16]\n",
            "[[ 5  6  7  8]\n",
            " [ 9 10 11 12]]\n",
            "[[ 3  4]\n",
            " [ 7  8]\n",
            " [11 12]\n",
            " [15 16]]\n",
            "[[ 6  7]\n",
            " [10 11]]\n"
          ]
        }
      ]
    },
    {
      "cell_type": "markdown",
      "source": [
        "\n",
        "---\n",
        "\n",
        "## ➕ 5. Arithmetic Operations\n",
        "**Question:** Perform the following using NumPy arrays:\n",
        "1. Add two arrays element-wise\n",
        "2. Multiply two arrays element-wise\n",
        "3. Raise all elements of an array to the power of 2\n",
        "\n",
        "```python\n",
        "arr1 = np.array([1, 2, 3])\n",
        "arr2 = np.array([4, 5, 6])\n",
        "\n",
        "```\n",
        "\n",
        "---\n"
      ],
      "metadata": {
        "id": "TYIR2o4w_qHm"
      }
    },
    {
      "cell_type": "code",
      "source": [
        "arr1 = np.array([1, 2, 3])\n",
        "arr2 = np.array([4, 5, 6])\n",
        "print(arr1 + arr2)\n",
        "print(arr1 * arr2)\n",
        "print(arr2 ** 2)"
      ],
      "metadata": {
        "id": "3pOaUm-y_--J",
        "colab": {
          "base_uri": "https://localhost:8080/"
        },
        "outputId": "f2b0aed9-e34b-4539-c4ec-f1ef0283f62b"
      },
      "execution_count": 6,
      "outputs": [
        {
          "output_type": "stream",
          "name": "stdout",
          "text": [
            "[5 7 9]\n",
            "[ 4 10 18]\n",
            "[16 25 36]\n"
          ]
        }
      ]
    },
    {
      "cell_type": "markdown",
      "source": [
        "\n",
        "## 📏 6. Broadcasting\n",
        "**Question:** Use broadcasting to:\n",
        "1. Add a 1D array to each row of a 2D array\n",
        "2. Multiply each row of a 2D array by a 1D array\n",
        "3. Subtract a scalar from each element in an array\n",
        "4. Add a column vector to each column of a matrix\n",
        "\n",
        "```python\n",
        "A = np.array([[1, 2, 3],\n",
        "              [4, 5, 6]])\n",
        "\n",
        "B = np.array([10, 20, 30])\n",
        "C = np.array([[1], [2]])\n",
        "\n",
        "```\n"
      ],
      "metadata": {
        "id": "mfYIu2L9_rl6"
      }
    },
    {
      "cell_type": "code",
      "source": [
        "import numpy as np\n",
        "A = np.array([[1, 2, 3], [4, 5, 6]])\n",
        "B = np.array([10, 20, 30])\n",
        "C = np.array([[1], [2]])\n",
        "print(A+B)\n",
        "print(A*B)\n",
        "print(A-3)\n",
        "print(A+C)"
      ],
      "metadata": {
        "id": "HLueW9R2__sQ",
        "colab": {
          "base_uri": "https://localhost:8080/"
        },
        "outputId": "0f93df4e-bf9d-461e-d9b2-91ad86b9c452"
      },
      "execution_count": 7,
      "outputs": [
        {
          "output_type": "stream",
          "name": "stdout",
          "text": [
            "[[11 22 33]\n",
            " [14 25 36]]\n",
            "[[ 10  40  90]\n",
            " [ 40 100 180]]\n",
            "[[-2 -1  0]\n",
            " [ 1  2  3]]\n",
            "[[2 3 4]\n",
            " [6 7 8]]\n"
          ]
        }
      ]
    },
    {
      "cell_type": "markdown",
      "source": [
        "\n",
        "---\n",
        "\n",
        "## 🔁 7. More Broadcasting Practice\n",
        "**Question:** Try these:\n",
        "1. Add a 1D array of shape (4,) to a 2D array of shape (3,4)\n",
        "2. Multiply a (3,1) column array to a (1,4) row array and observe the shape\n",
        "3. Add a scalar to the entire array\n",
        "\n",
        "```python\n",
        "A = np.arange(12).reshape(3, 4)\n",
        "B = np.array([100, 200, 300, 400])\n",
        "C = np.array([[2], [3], [4]])\n",
        "\n",
        "```\n"
      ],
      "metadata": {
        "id": "GwaQHqqM_szI"
      }
    },
    {
      "cell_type": "code",
      "source": [
        "A = np.arange(12).reshape(3, 4)\n",
        "B = np.array([100, 200, 300, 400])\n",
        "C = np.array([[2], [3], [4]])\n",
        "print(A+B)\n",
        "print(B*C)\n",
        "print(A+10)"
      ],
      "metadata": {
        "id": "SYu_nJjjD7UB",
        "outputId": "ffa69112-2518-46ee-d49e-c02330587a40",
        "colab": {
          "base_uri": "https://localhost:8080/"
        }
      },
      "execution_count": 8,
      "outputs": [
        {
          "output_type": "stream",
          "name": "stdout",
          "text": [
            "[[100 201 302 403]\n",
            " [104 205 306 407]\n",
            " [108 209 310 411]]\n",
            "[[ 200  400  600  800]\n",
            " [ 300  600  900 1200]\n",
            " [ 400  800 1200 1600]]\n",
            "[[10 11 12 13]\n",
            " [14 15 16 17]\n",
            " [18 19 20 21]]\n"
          ]
        }
      ]
    },
    {
      "cell_type": "markdown",
      "source": [
        "\n",
        "---\n",
        "\n",
        "## 🔃 8. Reshaping and Flattening\n",
        "**Question:**\n",
        "1. Reshape a 1D array of 12 elements into a 3x4 matrix\n",
        "2. Flatten a 2D array into a 1D array\n",
        "\n",
        "```python\n",
        "arr = np.arange(12)\n",
        "\n",
        "```\n"
      ],
      "metadata": {
        "id": "s0-ElcHm_uLL"
      }
    },
    {
      "cell_type": "code",
      "source": [
        "arr = np.arange(12)\n",
        "arr_reshaped = arr.reshape(3, 4)\n",
        "print(arr_reshaped)\n",
        "\n",
        "\n",
        "arr_flattened = arr_reshaped.flatten()\n",
        "print( arr_flattened)"
      ],
      "metadata": {
        "id": "6cuXtuHNABj7",
        "colab": {
          "base_uri": "https://localhost:8080/"
        },
        "outputId": "3a52c4f9-5722-4041-cc5d-98254bd75215"
      },
      "execution_count": 9,
      "outputs": [
        {
          "output_type": "stream",
          "name": "stdout",
          "text": [
            "[[ 0  1  2  3]\n",
            " [ 4  5  6  7]\n",
            " [ 8  9 10 11]]\n",
            "[ 0  1  2  3  4  5  6  7  8  9 10 11]\n"
          ]
        }
      ]
    },
    {
      "cell_type": "markdown",
      "source": [
        "\n",
        "---\n",
        "\n",
        "## 🔗 9. Stacking and Splitting\n",
        "**Question:** Stack and split arrays:\n",
        "1. Stack two (2, 2) arrays vertically and horizontally\n",
        "2. reshape a (4, 4) array into array of shape (2, 8)\n",
        "\n",
        "\n",
        "---\n"
      ],
      "metadata": {
        "id": "wE_NIjfD_wYt"
      }
    },
    {
      "cell_type": "code",
      "source": [
        "a = np.array([[1, 2],\n",
        "              [3, 4]])\n",
        "b = np.array([[5, 6],\n",
        "              [7, 8]])\n",
        "\n",
        "v_stacked = np.vstack((a, b))\n",
        "print(\"Vertical stack (shape {}):\\n{}\".format(v_stacked.shape, v_stacked))\n",
        "\n",
        "h_stacked = np.hstack((a, b))\n",
        "print(\"Horizontal stack (shape {}):\\n{}\".format(h_stacked.shape, h_stacked))\n",
        "\n",
        "m = np.arange(1, 17).reshape(4, 4)\n",
        "print(\"Original (4x4):\\n\", m, \"\\n\")\n",
        "\n",
        "m_reshaped = m.reshape(2, 8)\n",
        "print(\"Reshaped to (2,8):\\n\", m_reshaped)\n",
        "\n",
        "\n",
        "\n",
        "top, bottom = np.split(m, 2, axis=0)\n",
        "print(\"Split into two (2,4) arrays:\")\n",
        "print(\"Top:\\n\", top)\n",
        "print(\"Bottom:\\n\", bottom)\n"
      ],
      "metadata": {
        "colab": {
          "base_uri": "https://localhost:8080/"
        },
        "id": "CyLl6wh7_yjy",
        "outputId": "fcab22d2-1320-482e-cf58-4cba73707b25"
      },
      "execution_count": 12,
      "outputs": [
        {
          "output_type": "stream",
          "name": "stdout",
          "text": [
            "Vertical stack (shape (4, 2)):\n",
            "[[1 2]\n",
            " [3 4]\n",
            " [5 6]\n",
            " [7 8]]\n",
            "Horizontal stack (shape (2, 4)):\n",
            "[[1 2 5 6]\n",
            " [3 4 7 8]]\n",
            "Original (4x4):\n",
            " [[ 1  2  3  4]\n",
            " [ 5  6  7  8]\n",
            " [ 9 10 11 12]\n",
            " [13 14 15 16]] \n",
            "\n",
            "Reshaped to (2,8):\n",
            " [[ 1  2  3  4  5  6  7  8]\n",
            " [ 9 10 11 12 13 14 15 16]]\n",
            "Split into two (2,4) arrays:\n",
            "Top:\n",
            " [[1 2 3 4]\n",
            " [5 6 7 8]]\n",
            "Bottom:\n",
            " [[ 9 10 11 12]\n",
            " [13 14 15 16]]\n"
          ]
        }
      ]
    },
    {
      "cell_type": "markdown",
      "source": [
        "\n",
        "## 🧠 10. Boolean Masking\n",
        "**Question:**\n",
        "Given an array:\n",
        "1. Select all elements > 10\n",
        "2. Replace all even numbers with -1\n",
        "\n",
        "```python\n",
        "arr = np.array([[5, 10, 15], [20, 25, 30]])\n",
        "\n",
        "```\n"
      ],
      "metadata": {
        "id": "xEMoDhIO_xz1"
      }
    },
    {
      "cell_type": "code",
      "source": [
        "arr = np.array([[5, 10, 15], [20, 25, 30]])\n",
        "print( arr)\n",
        "\n",
        "mask_gt_10 = arr > 10\n",
        "print(mask_gt_10)\n",
        "print( arr[mask_gt_10])\n",
        "\n",
        "\n",
        "mask_even = arr % 2 == 0\n",
        "arr[mask_even] = -1\n",
        "print(arr)"
      ],
      "metadata": {
        "id": "jejS1-qiADMy",
        "colab": {
          "base_uri": "https://localhost:8080/"
        },
        "outputId": "271d101d-3db3-4692-ccb6-6725d1094d01"
      },
      "execution_count": 19,
      "outputs": [
        {
          "output_type": "stream",
          "name": "stdout",
          "text": [
            "[[ 5 10 15]\n",
            " [20 25 30]]\n",
            "[[False False  True]\n",
            " [ True  True  True]]\n",
            "[15 20 25 30]\n",
            "[[ 5 -1 15]\n",
            " [-1 25 -1]]\n"
          ]
        }
      ]
    },
    {
      "cell_type": "markdown",
      "source": [
        "\n",
        "---\n",
        "\n",
        "## 🧮 11. Aggregation\n",
        "**Question:** Calculate:\n",
        "1. Sum of all elements\n",
        "2. Mean of each column\n",
        "3. Max value in each row\n",
        "4. Standard deviation of the array\n",
        "\n",
        "```python\n",
        "arr = np.array([[1, 2, 3], [4, 5, 6]])\n",
        "\n",
        "```\n"
      ],
      "metadata": {
        "id": "9AY2Y8HR_zSR"
      }
    },
    {
      "cell_type": "code",
      "source": [
        "arr = np.array([[1, 2, 3], [4, 5, 6]])\n",
        "print(\"Original array:\\n\", arr)\n",
        "\n",
        "total_sum = np.sum(arr)\n",
        "print(\"\\nSum of all elements:\", total_sum)\n",
        "\n",
        "column_mean = np.mean(arr, axis=0)\n",
        "print(\"Mean of each column:\", column_mean)\n",
        "\n",
        "row_max = np.max(arr, axis=1)\n",
        "print(\"Max value in each row:\", row_max)\n",
        "\n",
        "std_dev = np.std(arr)\n",
        "print(f\"Standard deviation of the array: {std_dev:.2f}\")"
      ],
      "metadata": {
        "id": "xlaIab8NAESs",
        "colab": {
          "base_uri": "https://localhost:8080/"
        },
        "outputId": "459e6748-c34a-4ef8-bd41-2446a9ec2ad6"
      },
      "execution_count": 13,
      "outputs": [
        {
          "output_type": "stream",
          "name": "stdout",
          "text": [
            "Original array:\n",
            " [[1 2 3]\n",
            " [4 5 6]]\n",
            "\n",
            "Sum of all elements: 21\n",
            "Mean of each column: [2.5 3.5 4.5]\n",
            "Max value in each row: [3 6]\n",
            "Standard deviation of the array: 1.71\n"
          ]
        }
      ]
    },
    {
      "cell_type": "markdown",
      "source": [
        "\n",
        "---\n",
        "\n",
        "## 🧲 12. Dot Product and Matrix Multiplication\n",
        "**Question:**\n",
        "1. Multiply two matrices using `np.dot`\n",
        "\n",
        "```python\n",
        "A = np.array([[1, 2],\n",
        "              [3, 4]])\n",
        "B = np.array([[5, 6],\n",
        "              [7, 8]])\n",
        "\n",
        "```\n"
      ],
      "metadata": {
        "id": "N4mqr1Gr_0Kt"
      }
    },
    {
      "cell_type": "code",
      "source": [
        "A = np.array([[1, 2],\n",
        "              [3, 4]])\n",
        "B = np.array([[5, 6],\n",
        "              [7, 8]])\n",
        "\n",
        "dot_product = np.dot(A, B)\n",
        "print(\"Matrix A:\\n\", A)\n",
        "print(\"\\nMatrix B:\\n\", B)\n",
        "print(\"\\nDot product of A and B:\\n\", dot_product)"
      ],
      "metadata": {
        "id": "gbWAzqoYAFR0",
        "colab": {
          "base_uri": "https://localhost:8080/"
        },
        "outputId": "3528c1b8-2069-4793-f8f2-c80578515331"
      },
      "execution_count": 14,
      "outputs": [
        {
          "output_type": "stream",
          "name": "stdout",
          "text": [
            "Matrix A:\n",
            " [[1 2]\n",
            " [3 4]]\n",
            "\n",
            "Matrix B:\n",
            " [[5 6]\n",
            " [7 8]]\n",
            "\n",
            "Dot product of A and B:\n",
            " [[19 22]\n",
            " [43 50]]\n"
          ]
        }
      ]
    },
    {
      "cell_type": "markdown",
      "source": [
        "\n",
        "---\n",
        "\n",
        "## 🔢 13. Random Numbers\n",
        "**Question:**\n",
        "1. Generate a 2x3 array of random numbers between 0 and 1\n",
        "2. Generate 10 random integers between 50 and 100\n",
        "\n"
      ],
      "metadata": {
        "id": "W1UDOAdi_1ar"
      }
    },
    {
      "cell_type": "code",
      "source": [
        "random_floats = np.random.rand(2, 3)\n",
        "print(random_floats)\n",
        "\n",
        "random_integers = np.random.randint(50, 101, size=10)\n",
        "print(\"\\n10 random integers between 50 and 100:\\n\", random_integers)"
      ],
      "metadata": {
        "id": "jOVTvy_hAGcv",
        "colab": {
          "base_uri": "https://localhost:8080/"
        },
        "outputId": "503c58bd-2f14-43a5-fcb7-a15d4a5bc12a"
      },
      "execution_count": 16,
      "outputs": [
        {
          "output_type": "stream",
          "name": "stdout",
          "text": [
            "[[0.54086163 0.36703414 0.04560969]\n",
            " [0.04036482 0.55770559 0.19551464]]\n",
            "\n",
            "10 random integers between 50 and 100:\n",
            " [100  90  71  78  89  92  74  70  99  67]\n"
          ]
        }
      ]
    },
    {
      "cell_type": "markdown",
      "source": [
        "\n",
        "---\n",
        "\n",
        "## 📐 14. Linear Algebra\n",
        "**Question:**\n",
        "1. Find the rank of a matrix\n",
        "2. Compute the inverse of a matrix\n",
        "3. Compute the determinant of a matrix\n",
        "\n",
        "\n",
        "\n",
        "---\n"
      ],
      "metadata": {
        "id": "O-rWgFCv_27-"
      }
    },
    {
      "cell_type": "code",
      "source": [
        "from numpy.linalg import matrix_rank, inv, det\n",
        "\n",
        "matrix = np.array([[1, 2], [3, 4]])\n",
        "print(\"Original Matrix:\\n\", matrix)\n",
        "\n",
        "rank = matrix_rank(matrix)\n",
        "print(\"\\nRank of the matrix:\", rank)\n",
        "\n",
        "inverse_matrix = inv(matrix)\n",
        "print(\"\\nInverse of the matrix:\\n\", inverse_matrix)\n",
        "\n",
        "determinant = det(matrix)\n",
        "print(f\"\\nDeterminant of the matrix: {determinant:.2f}\")"
      ],
      "metadata": {
        "id": "rcW7oVrGAGwI",
        "colab": {
          "base_uri": "https://localhost:8080/"
        },
        "outputId": "439b48aa-639d-48f4-99ec-fa3390eb2a10"
      },
      "execution_count": 17,
      "outputs": [
        {
          "output_type": "stream",
          "name": "stdout",
          "text": [
            "Original Matrix:\n",
            " [[1 2]\n",
            " [3 4]]\n",
            "\n",
            "Rank of the matrix: 2\n",
            "\n",
            "Inverse of the matrix:\n",
            " [[-2.   1. ]\n",
            " [ 1.5 -0.5]]\n",
            "\n",
            "Determinant of the matrix: -2.00\n"
          ]
        }
      ]
    },
    {
      "cell_type": "markdown",
      "source": [
        "\n",
        "## ⭐ Bonus Challenge\n",
        "**Question:**\n",
        "Given a 2D array of shape (6, 6), extract all 3x3 submatrices (using slicing) and store them in a list.\n",
        "\n"
      ],
      "metadata": {
        "id": "lQb606tk_5L5"
      }
    },
    {
      "cell_type": "code",
      "source": [
        "original_matrix = np.arange(36).reshape(6, 6)\n",
        "print(\"Original 6x6 Matrix:\\n\", original_matrix)\n",
        "\n",
        "submatrices = []\n",
        "\n",
        "rows, cols = original_matrix.shape\n",
        "\n",
        "for i in range(rows - 2):\n",
        "    for j in range(cols - 2):\n",
        "        submatrix = original_matrix[i:i+3, j:j+3]\n",
        "        submatrices.append(submatrix)\n",
        "\n",
        "print(\"\\nSubmatrix 1:\\n\", submatrices[0])\n",
        "print(\"\\nSubmatrix 2:\\n\", submatrices[1])"
      ],
      "metadata": {
        "id": "dNR9aI5m9Vrr",
        "colab": {
          "base_uri": "https://localhost:8080/"
        },
        "outputId": "f01366ba-0049-49b6-9c37-c2f90bf2aca4"
      },
      "execution_count": 20,
      "outputs": [
        {
          "output_type": "stream",
          "name": "stdout",
          "text": [
            "Original 6x6 Matrix:\n",
            " [[ 0  1  2  3  4  5]\n",
            " [ 6  7  8  9 10 11]\n",
            " [12 13 14 15 16 17]\n",
            " [18 19 20 21 22 23]\n",
            " [24 25 26 27 28 29]\n",
            " [30 31 32 33 34 35]]\n",
            "\n",
            "Submatrix 1:\n",
            " [[ 0  1  2]\n",
            " [ 6  7  8]\n",
            " [12 13 14]]\n",
            "\n",
            "Submatrix 2:\n",
            " [[ 1  2  3]\n",
            " [ 7  8  9]\n",
            " [13 14 15]]\n"
          ]
        }
      ]
    },
    {
      "cell_type": "markdown",
      "source": [
        "\n",
        "---\n",
        "\n",
        "Happy coding! 🎯\n"
      ],
      "metadata": {
        "id": "-qOCxwQnAJn2"
      }
    }
  ]
}
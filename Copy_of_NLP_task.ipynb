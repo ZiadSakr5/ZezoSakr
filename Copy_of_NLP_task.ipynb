{
  "nbformat": 4,
  "nbformat_minor": 0,
  "metadata": {
    "colab": {
      "provenance": [],
      "gpuType": "V5E1",
      "include_colab_link": true
    },
    "kernelspec": {
      "name": "python3",
      "display_name": "Python 3"
    },
    "language_info": {
      "name": "python"
    },
    "accelerator": "TPU"
  },
  "cells": [
    {
      "cell_type": "markdown",
      "metadata": {
        "id": "view-in-github",
        "colab_type": "text"
      },
      "source": [
        "<a href=\"https://colab.research.google.com/github/ZiadSakr5/ZezoSakr/blob/main/Copy_of_NLP_task.ipynb\" target=\"_parent\"><img src=\"https://colab.research.google.com/assets/colab-badge.svg\" alt=\"Open In Colab\"/></a>"
      ]
    },
    {
      "cell_type": "markdown",
      "source": [
        "# NLP Lab Task — Preprocessing to Deployment with Twitter Sentiment Dataset\n",
        "\n",
        "## Overview\n",
        "\n",
        "This lab takes students through the **entire NLP pipeline** using a **Twitter Sentiment Analysis dataset** (tweets labeled as positive, negative, or neutral). Students will preprocess the data, represent it using multiple methods, train classical machine learning models, evaluate their results, and finally build a small API for deployment.\n",
        "\n",
        "---\n",
        "\n",
        "## Learning Objectives\n",
        "\n",
        "* Apply text preprocessing (regex, case folding, tokenization, stopword removal, punctuation handling).\n",
        "* Compare stemming and lemmatization, and use POS tagging to analyze counts of nouns, verbs, and adjectives.\n",
        "* Build text representations using **Bag-of-Words**, **TF–IDF**, and **Word2Vec**.\n",
        "* Train classical ML models inside an sklearn **Pipeline**.\n",
        "* Evaluate models with standard metrics and perform basic error analysis.\n",
        "* Save a trained pipeline and build a simple API to serve predictions.\n",
        "\n",
        "---\n",
        "\n",
        "## Dataset\n",
        "\n",
        "We will use the **Sentiment140 Twitter dataset** (1.6M tweets, labeled positive/negative). For simplicity, you can work with a smaller balanced subset (e.g., 10k–20k tweets). This dataset is widely used for sentiment analysis and contains real, noisy text with mentions, hashtags, and emoticons.\n",
        "\n",
        "Dataset link: [Sentiment140](http://help.sentiment140.com/for-students/)\n",
        "\n",
        "---\n",
        "\n",
        "## Step-by-Step Tasks\n",
        "\n",
        "### 1) Exploratory Data Analysis (EDA)\n",
        "\n",
        "* Load dataset, show class distribution, tweet length histogram, and a few sample tweets.\n",
        "* Deliverable: 3 plots (class balance, length histogram, top frequent tokens) + 5 example tweets.\n",
        "\n",
        "### 2) Regex Cleaning\n",
        "\n",
        "* Remove URLs, mentions (@user), hashtags, emojis (or replace with tokens), and extra whitespace.\n",
        "* Show a before-and-after example for at least 3 tweets.\n",
        "\n",
        "### 3) Case Folding & Tokenization\n",
        "\n",
        "* Convert all text to lowercase.\n",
        "* Tokenize tweets using NLTK or spaCy.\n",
        "* Compare vocabulary size before and after cleaning.\n",
        "\n",
        "### 4) Stopwords, Punctuation, and Numbers\n",
        "\n",
        "* Remove stopwords (with NLTK list, customizable).\n",
        "* Decide how to handle punctuation and numbers (remove or replace with `<NUM>`).\n",
        "* Deliverable: short explanation of your choice.\n",
        "\n",
        "### 5) Stemming vs Lemmatization\n",
        "\n",
        "* Use PorterStemmer (stemming) and spaCy lemmatizer.\n",
        "* Show 20 sample words with their stem vs lemma.\n",
        "* Train quick models with both and compare results.\n",
        "\n",
        "### 6) POS Tagging (extra features)\n",
        "\n",
        "* Use spaCy to count nouns, verbs, and adjectives per tweet.\n",
        "* Add these counts as additional numeric features.\n",
        "* Compare model with vs without POS features.\n",
        "\n",
        "### 7) Text Representation\n",
        "\n",
        "* Implement three representations:\n",
        "  1. **Bag-of-Words** (CountVectorizer)\n",
        "  2. **TF–IDF** (TfidfVectorizer)\n",
        "  3. **Word2Vec** (pretrained embeddings, averaged per tweet)\n",
        "* Compare vocabulary sizes and representation dimensions.\n",
        "\n",
        "### 8) Modeling with Pipelines\n",
        "\n",
        "* Use sklearn Pipelines to connect preprocessing + vectorizer + classifier.\n",
        "* Models to try:\n",
        "  * Multinomial Naive Bayes (for BoW/TF–IDF)\n",
        "  * Logistic Regression\n",
        "  * Linear SVM\n",
        "* Deliverable: comparison table (accuracy, F1-score).\n",
        "\n",
        "### 9) Evaluation & Error Analysis\n",
        "\n",
        "* Use held-out test set.\n",
        "* Metrics: accuracy, precision, recall, F1, confusion matrix.\n",
        "* Show 10 misclassified tweets and discuss why they may be difficult.\n",
        "\n",
        "### 10) Save Model Pipeline\n",
        "\n",
        "* Save the best pipeline using `joblib` or `pickle`.\n",
        "* Deliverable: `sentiment_model.pkl` file.\n",
        "\n",
        "### 11) Build a Simple API (Deployment Step)\n",
        "\n",
        "* Create a small Flask API with one endpoint `/predict` that accepts a tweet as input and returns sentiment prediction.\n",
        "* The API should load the saved pipeline and make predictions.\n",
        "* Deliverable: `app.py` with Flask code + test with a sample curl or Postman request.\n",
        "\n",
        "---\n",
        "\n",
        "## Deliverables\n",
        "\n",
        "1. Jupyter Notebook with step-by-step tasks, results, and code.\n",
        "2. Comparison tables for preprocessing choices and representations.\n",
        "3. Saved pipeline file (`.pkl`).\n",
        "4. Flask API script (`app.py`).\n",
        "5. Short report in markdown cell summarizing preprocessing, modeling choices, and results.\n",
        "\n",
        "---\n",
        "\n",
        "This streamlined lab ensures students get hands-on experience with **real-world text preprocessing, classical modeling, and deployment of NLP systems**.\n"
      ],
      "metadata": {
        "id": "dpKLxZ8mNTGE"
      }
    },
    {
      "cell_type": "markdown",
      "source": [
        "### 1. Load the Dataset\n",
        "\n",
        "We will use the **Sentiment140 Twitter Sentiment dataset**.  \n",
        "It contains 1.6 million tweets labeled as positive (4) or negative (0).  \n",
        "For this lab, we will load a smaller subset (e.g., 20,000 rows) for faster experimentation.\n",
        "\n",
        "```python\n",
        "import pandas as pd\n",
        "\n",
        "# Column order for Sentiment140 dataset:\n",
        "# 0 - target (0 = negative, 4 = positive)\n",
        "# 1 - ids\n",
        "# 2 - date\n",
        "# 3 - flag\n",
        "# 4 - user\n",
        "# 5 - text (tweet)\n",
        "\n",
        "# Update the file path if needed\n",
        "file_path = \"sentiment140.csv\"\n",
        "\n",
        "# Load with proper encoding\n",
        "df = pd.read_csv(file_path, encoding='latin-1', header=None)\n",
        "\n",
        "# Assign column names\n",
        "df.columns = [\"target\", \"id\", \"date\", \"flag\", \"user\", \"text\"]\n",
        "\n",
        "# Map target labels: 0 → negative, 4 → positive\n",
        "df[\"target\"] = df[\"target\"].map({0: \"negative\", 4: \"positive\"})\n",
        "\n",
        "# Take a smaller sample for experiments (optional)\n",
        "df = df.sample(20000, random_state=42).reset_index(drop=True)\n",
        "\n",
        "# Quick check\n",
        "print(df.shape)\n",
        "df.head()\n"
      ],
      "metadata": {
        "id": "g5JhT6qqMzOr"
      }
    },
    {
      "cell_type": "code",
      "execution_count": 3,
      "metadata": {
        "colab": {
          "base_uri": "https://localhost:8080/"
        },
        "id": "FckTkNZyMqJw",
        "outputId": "e5d1bead-2299-474d-b689-2bfd6f263cb2"
      },
      "outputs": [
        {
          "output_type": "stream",
          "name": "stdout",
          "text": [
            "(20000, 6)\n",
            "Training set: (1600000, 6)\n",
            "     target          id                          date      flag  \\\n",
            "0  negative  1467810369  Mon Apr 06 22:19:45 PDT 2009  NO_QUERY   \n",
            "1  negative  1467810672  Mon Apr 06 22:19:49 PDT 2009  NO_QUERY   \n",
            "2  negative  1467810917  Mon Apr 06 22:19:53 PDT 2009  NO_QUERY   \n",
            "3  negative  1467811184  Mon Apr 06 22:19:57 PDT 2009  NO_QUERY   \n",
            "4  negative  1467811193  Mon Apr 06 22:19:57 PDT 2009  NO_QUERY   \n",
            "\n",
            "              user                                               text  \n",
            "0  _TheSpecialOne_  @switchfoot http://twitpic.com/2y1zl - Awww, t...  \n",
            "1    scotthamilton  is upset that he can't update his Facebook by ...  \n",
            "2         mattycus  @Kenichan I dived many times for the ball. Man...  \n",
            "3          ElleCTF    my whole body feels itchy and like its on fire   \n",
            "4           Karoli  @nationwideclass no, it's not behaving at all....  \n",
            "Test set: (498, 6)\n",
            "     target  id                          date     flag      user  \\\n",
            "0  positive   3  Mon May 11 03:17:40 UTC 2009  kindle2    tpryan   \n",
            "1  positive   4  Mon May 11 03:18:03 UTC 2009  kindle2    vcu451   \n",
            "2  positive   5  Mon May 11 03:18:54 UTC 2009  kindle2    chadfu   \n",
            "3  positive   6  Mon May 11 03:19:04 UTC 2009  kindle2     SIX15   \n",
            "4  positive   7  Mon May 11 03:21:41 UTC 2009  kindle2  yamarama   \n",
            "\n",
            "                                                text  \n",
            "0  @stellargirl I loooooooovvvvvveee my Kindle2. ...  \n",
            "1  Reading my kindle2...  Love it... Lee childs i...  \n",
            "2  Ok, first assesment of the #kindle2 ...it fuck...  \n",
            "3  @kenburbary You'll love your Kindle2. I've had...  \n",
            "4  @mikefish  Fair enough. But i have the Kindle2...  \n"
          ]
        }
      ],
      "source": [
        "import pandas as pd\n",
        "\n",
        "import pandas as pd\n",
        "import zipfile\n",
        "import os\n",
        "import requests\n",
        "\n",
        "# Step 1: Download the dataset (if not already downloaded)\n",
        "url = \"https://cs.stanford.edu/people/alecmgo/trainingandtestdata.zip\"\n",
        "zip_path = \"trainingandtestdata.zip\"\n",
        "\n",
        "if not os.path.exists(zip_path):\n",
        "    print(\"Downloading dataset...\")\n",
        "    r = requests.get(url)\n",
        "    with open(zip_path, \"wb\") as f:\n",
        "        f.write(r.content)\n",
        "\n",
        "# Step 2: Unzip the file\n",
        "with zipfile.ZipFile(zip_path, \"r\") as zip_ref:\n",
        "    zip_ref.extractall(\".\")\n",
        "\n",
        "# Step 3: Load training data\n",
        "file_path = \"training.1600000.processed.noemoticon.csv\"\n",
        "\n",
        "df = pd.read_csv(file_path, encoding=\"latin-1\", header=None)\n",
        "df.columns = [\"target\", \"id\", \"date\", \"flag\", \"user\", \"text\"]\n",
        "\n",
        "# Map sentiment labels: 0 = negative, 4 = positive\n",
        "df[\"target\"] = df[\"target\"].map({0: \"negative\", 4: \"positive\"})\n",
        "\n",
        "# Optional: sample a smaller dataset for quicker experiments\n",
        "df = df.sample(20000, random_state=42).reset_index(drop=True)\n",
        "\n",
        "# Preview the data\n",
        "print(df.shape)\n",
        "df.head()\n",
        "\n",
        "\n",
        "# Load training set\n",
        "train_path = \"training.1600000.processed.noemoticon.csv\"\n",
        "train_df = pd.read_csv(train_path, encoding=\"latin-1\", header=None)\n",
        "train_df.columns = [\"target\", \"id\", \"date\", \"flag\", \"user\", \"text\"]\n",
        "train_df[\"target\"] = train_df[\"target\"].map({0: \"negative\", 4: \"positive\"})\n",
        "\n",
        "print(\"Training set:\", train_df.shape)\n",
        "print(train_df.head())\n",
        "\n",
        "# Load manual test set\n",
        "test_path = \"testdata.manual.2009.06.14.csv\"\n",
        "test_df = pd.read_csv(test_path, encoding=\"latin-1\", header=None)\n",
        "test_df.columns = [\"target\", \"id\", \"date\", \"flag\", \"user\", \"text\"]\n",
        "\n",
        "# This test set has labels 0 (negative), 2 (neutral), 4 (positive)\n",
        "test_df[\"target\"] = test_df[\"target\"].map({0: \"negative\", 2: \"neutral\", 4: \"positive\"})\n",
        "\n",
        "print(\"Test set:\", test_df.shape)\n",
        "print(test_df.head())\n"
      ]
    },
    {
      "cell_type": "code",
      "source": [
        "import pandas as pd\n",
        "import matplotlib.pyplot as plt\n",
        "import seaborn as sns\n",
        "from collections import Counter\n",
        "import re\n",
        "\n",
        "file_path = \"training.1600000.processed.noemoticon.csv\"\n",
        "df = pd.read_csv(file_path, encoding=\"latin-1\", header=None)\n",
        "df.columns = [\"target\", \"id\", \"date\", \"flag\", \"user\", \"text\"]\n",
        "\n",
        "df[\"target\"] = df[\"target\"].map({0: \"negative\", 4: \"positive\"})\n",
        "\n",
        "df = df.sample(20000, random_state=42).reset_index(drop=True)\n",
        "\n",
        "plt.figure(figsize=(5,4))\n",
        "sns.countplot(data=df, x=\"target\", palette=\"Set2\")\n",
        "plt.title(\"Class Distribution\")\n",
        "plt.show()\n",
        "\n",
        "df[\"length\"] = df[\"text\"].apply(len)\n",
        "plt.figure(figsize=(6,4))\n",
        "sns.histplot(df[\"length\"], bins=50, kde=True, color=\"skyblue\")\n",
        "plt.title(\"Tweet Length Distribution\")\n",
        "plt.xlabel(\"Tweet length (characters)\")\n",
        "plt.show()\n",
        "\n",
        "all_tokens = \" \".join(df[\"text\"]).split()\n",
        "top_tokens = Counter(all_tokens).most_common(20)\n",
        "tokens_df = pd.DataFrame(top_tokens, columns=[\"token\", \"count\"])\n",
        "\n",
        "plt.figure(figsize=(8,5))\n",
        "sns.barplot(data=tokens_df, x=\"count\", y=\"token\", palette=\"viridis\")\n",
        "plt.title(\"Top 20 Frequent Tokens (Uncleaned)\")\n",
        "plt.show()\n",
        "\n",
        "print(\"\\n📌 Example Tweets:\")\n",
        "for t in df[\"text\"].head(5):\n",
        "    print(\"-\", t)\n"
      ],
      "metadata": {
        "colab": {
          "base_uri": "https://localhost:8080/",
          "height": 1000
        },
        "id": "48QuRHQZC9zU",
        "outputId": "87ff73f9-096e-4253-960b-5fe946990aec"
      },
      "execution_count": 4,
      "outputs": [
        {
          "output_type": "stream",
          "name": "stderr",
          "text": [
            "/tmp/ipython-input-1703999249.py:16: FutureWarning: \n",
            "\n",
            "Passing `palette` without assigning `hue` is deprecated and will be removed in v0.14.0. Assign the `x` variable to `hue` and set `legend=False` for the same effect.\n",
            "\n",
            "  sns.countplot(data=df, x=\"target\", palette=\"Set2\")\n"
          ]
        },
        {
          "output_type": "display_data",
          "data": {
            "text/plain": [
              "<Figure size 500x400 with 1 Axes>"
            ],
            "image/png": "[encoded data removed]"
          },
          "metadata": {}
        },
        {
          "output_type": "display_data",
          "data": {
            "text/plain": [
              "<Figure size 600x400 with 1 Axes>"
            ],
            "image/png": "[encoded data removed]"
          },
          "metadata": {}
        },
        {
          "output_type": "stream",
          "name": "stderr",
          "text": [
            "/tmp/ipython-input-1703999249.py:32: FutureWarning: \n",
            "\n",
            "Passing `palette` without assigning `hue` is deprecated and will be removed in v0.14.0. Assign the `y` variable to `hue` and set `legend=False` for the same effect.\n",
            "\n",
            "  sns.barplot(data=tokens_df, x=\"count\", y=\"token\", palette=\"viridis\")\n"
          ]
        },
        {
          "output_type": "display_data",
          "data": {
            "text/plain": [
              "<Figure size 800x500 with 1 Axes>"
            ],
            "image/png": "[encoded data removed]"
          },
          "metadata": {}
        },
        {
          "output_type": "stream",
          "name": "stdout",
          "text": [
            "\n",
            "📌 Example Tweets:\n",
            "- @chrishasboobs AHHH I HOPE YOUR OK!!! \n",
            "- @misstoriblack cool , i have no tweet apps  for my razr 2\n",
            "- @TiannaChaos i know  just family drama. its lame.hey next time u hang out with kim n u guys like have a sleepover or whatever, ill call u\n",
            "- School email won't open  and I have geography stuff on there to revise! *Stupid School* :'(\n",
            "- upper airways problem \n"
          ]
        }
      ]
    },
    {
      "cell_type": "code",
      "source": [
        "import re\n",
        "\n",
        "def clean_tweet(text):\n",
        "    text = re.sub(r\"http\\S+|www\\S+\", \" URL \", text)\n",
        "    text = re.sub(r\"@\\w+\", \" USER \", text)\n",
        "    text = re.sub(r\"#\\w+\", \" HASHTAG \", text)\n",
        "    text = re.sub(r\"[^\\w\\s.,!?]\", \"\", text)\n",
        "    text = re.sub(r\"\\s+\", \" \", text).strip()\n",
        "    return text\n",
        "\n",
        "# Show before & after for 3 tweets\n",
        "sample_tweets = df[\"text\"].sample(3, random_state=42).tolist()\n",
        "print(\"📌 Regex Cleaning Examples\\n\")\n",
        "for tw in sample_tweets:\n",
        "    print(\"Before:\", tw)\n",
        "    print(\"After :\", clean_tweet(tw))\n",
        "    print(\"-\"*60)\n"
      ],
      "metadata": {
        "colab": {
          "base_uri": "https://localhost:8080/"
        },
        "id": "k7vdMvm-DUfq",
        "outputId": "0a0e9124-f2ee-4d88-baaf-e5a745d85d7d"
      },
      "execution_count": 5,
      "outputs": [
        {
          "output_type": "stream",
          "name": "stdout",
          "text": [
            "📌 Regex Cleaning Examples\n",
            "\n",
            "Before: cpr fail day, i turned it off instead of shocking the patient \n",
            "After : cpr fail day, i turned it off instead of shocking the patient\n",
            "------------------------------------------------------------\n",
            "Before: Laying in the bed because I just found out I've got to be up at 6am, yuck! Can't sleep though, bc of my nap earlier \n",
            "After : Laying in the bed because I just found out Ive got to be up at 6am, yuck! Cant sleep though, bc of my nap earlier\n",
            "------------------------------------------------------------\n",
            "Before: GRUMPY FUCK. i hate when people take there wee moods out on me. and i cant eat cookies cause my teeth \n",
            "After : GRUMPY FUCK. i hate when people take there wee moods out on me. and i cant eat cookies cause my teeth\n",
            "------------------------------------------------------------\n"
          ]
        }
      ]
    },
    {
      "cell_type": "code",
      "source": [
        "import nltk\n",
        "nltk.download(\"punkt\")\n",
        "nltk.download(\"punkt_tab\")\n"
      ],
      "metadata": {
        "colab": {
          "base_uri": "https://localhost:8080/"
        },
        "id": "ad9wWyF7Dw72",
        "outputId": "9bde039b-e08d-4fac-c044-662ef193d68e"
      },
      "execution_count": 17,
      "outputs": [
        {
          "output_type": "stream",
          "name": "stderr",
          "text": [
            "[nltk_data] Downloading package punkt to /root/nltk_data...\n",
            "[nltk_data]   Package punkt is already up-to-date!\n",
            "[nltk_data] Downloading package punkt_tab to /root/nltk_data...\n",
            "[nltk_data]   Unzipping tokenizers/punkt_tab.zip.\n"
          ]
        },
        {
          "output_type": "execute_result",
          "data": {
            "text/plain": [
              "True"
            ]
          },
          "metadata": {},
          "execution_count": 17
        }
      ]
    },
    {
      "cell_type": "code",
      "source": [
        "import nltk\n",
        "from nltk.tokenize import word_tokenize\n",
        "nltk.download(\"punkt\")\n",
        "\n",
        "all_tokens_before = [tok for text in df[\"text\"].str.lower() for tok in word_tokenize(text)]\n",
        "vocab_before = set(all_tokens_before)\n",
        "\n",
        "df[\"clean_text\"] = df[\"text\"].apply(clean_tweet).str.lower()\n",
        "all_tokens_after = [tok for text in df[\"clean_text\"] for tok in word_tokenize(text)]\n",
        "vocab_after = set(all_tokens_after)\n",
        "\n",
        "print(\"Vocabulary size BEFORE cleaning:\", len(vocab_before))\n",
        "print(\"Vocabulary size AFTER cleaning :\", len(vocab_after))\n",
        "\n",
        "example = df[\"clean_text\"].iloc[0]\n",
        "print(\"\\n📌 Example Tokenization\")\n",
        "print(\"Tweet:\", example)\n",
        "print(\"Tokens:\", word_tokenize(example))\n"
      ],
      "metadata": {
        "colab": {
          "base_uri": "https://localhost:8080/"
        },
        "id": "71ClhvN1DeDo",
        "outputId": "a96bd0ec-3928-4d08-e93b-f52bc1363813"
      },
      "execution_count": 6,
      "outputs": [
        {
          "output_type": "stream",
          "name": "stderr",
          "text": [
            "[nltk_data] Downloading package punkt to /root/nltk_data...\n",
            "[nltk_data]   Package punkt is already up-to-date!\n"
          ]
        },
        {
          "output_type": "stream",
          "name": "stdout",
          "text": [
            "Vocabulary size BEFORE cleaning: 32105\n",
            "Vocabulary size AFTER cleaning : 22354\n",
            "\n",
            "📌 Example Tokenization\n",
            "Tweet: user ahhh i hope your ok!!!\n",
            "Tokens: ['user', 'ahhh', 'i', 'hope', 'your', 'ok', '!', '!', '!']\n"
          ]
        }
      ]
    },
    {
      "cell_type": "code",
      "source": [
        "import string\n",
        "from nltk.corpus import stopwords\n",
        "nltk.download(\"stopwords\")\n",
        "\n",
        "stop_words = set(stopwords.words(\"english\"))\n",
        "punctuations = string.punctuation\n",
        "\n",
        "def preprocess_text(text):\n",
        "    text = text.lower()\n",
        "    text = re.sub(r\"\\d+\", \" <NUM> \", text)\n",
        "    text = text.translate(str.maketrans(\"\", \"\", punctuations))\n",
        "    tokens = word_tokenize(text)\n",
        "    tokens = [tok for tok in tokens if tok not in stop_words]\n",
        "    return \" \".join(tokens)\n",
        "\n",
        "df[\"processed_text\"] = df[\"clean_text\"].apply(preprocess_text)\n",
        "\n",
        "print(\"📌 Before:\", df['clean_text'].iloc[0])\n",
        "print(\"📌 After :\", df['processed_text'].iloc[0])\n"
      ],
      "metadata": {
        "colab": {
          "base_uri": "https://localhost:8080/"
        },
        "id": "255KKGm4DgPk",
        "outputId": "f2efbac3-9de5-4751-b028-fb92fc191fd5"
      },
      "execution_count": 7,
      "outputs": [
        {
          "output_type": "stream",
          "name": "stderr",
          "text": [
            "[nltk_data] Downloading package stopwords to /root/nltk_data...\n",
            "[nltk_data]   Package stopwords is already up-to-date!\n"
          ]
        },
        {
          "output_type": "stream",
          "name": "stdout",
          "text": [
            "📌 Before: user ahhh i hope your ok!!!\n",
            "📌 After : user ahhh hope ok\n"
          ]
        }
      ]
    },
    {
      "cell_type": "code",
      "source": [
        "from nltk.stem import PorterStemmer\n",
        "import spacy\n",
        "\n",
        "stemmer = PorterStemmer()\n",
        "nlp = spacy.load(\"en_core_web_sm\")\n",
        "\n",
        "sample_words = [\"running\", \"better\", \"flies\", \"studies\", \"studying\",\n",
        "                \"happier\", \"cities\", \"feet\", \"mice\", \"talking\",\n",
        "                \"connected\", \"connections\", \"cars\", \"amazing\",\n",
        "                \"beautiful\", \"easily\", \"went\", \"does\", \"geese\", \"saw\"]\n",
        "\n",
        "print(f\"{'Word':<15}{'Stem':<15}{'Lemma':<15}\")\n",
        "print(\"=\"*45)\n",
        "\n",
        "for word in sample_words:\n",
        "    stem = stemmer.stem(word)\n",
        "    lemma = nlp(word)[0].lemma_\n",
        "    print(f\"{word:<15}{stem:<15}{lemma:<15}\")\n"
      ],
      "metadata": {
        "colab": {
          "base_uri": "https://localhost:8080/"
        },
        "id": "dLK9k1uXEhfx",
        "outputId": "c33c6983-43c0-4726-d403-57ed1cd3b730"
      },
      "execution_count": 8,
      "outputs": [
        {
          "output_type": "stream",
          "name": "stdout",
          "text": [
            "Word           Stem           Lemma          \n",
            "=============================================\n",
            "running        run            run            \n",
            "better         better         well           \n",
            "flies          fli            fly            \n",
            "studies        studi          study          \n",
            "studying       studi          study          \n",
            "happier        happier        happy          \n",
            "cities         citi           city           \n",
            "feet           feet           foot           \n",
            "mice           mice           mouse          \n",
            "talking        talk           talk           \n",
            "connected      connect        connect        \n",
            "connections    connect        connection     \n",
            "cars           car            car            \n",
            "amazing        amaz           amazing        \n",
            "beautiful      beauti         beautiful      \n",
            "easily         easili         easily         \n",
            "went           went           go             \n",
            "does           doe            do             \n",
            "geese          gees           geese          \n",
            "saw            saw            see            \n"
          ]
        }
      ]
    },
    {
      "cell_type": "code",
      "source": [
        "from sklearn.feature_extraction.text import TfidfVectorizer\n",
        "from sklearn.linear_model import LogisticRegression\n",
        "from sklearn.model_selection import train_test_split\n",
        "from sklearn.metrics import accuracy_score\n",
        "\n",
        "df[\"stemmed\"] = df[\"processed_text\"].apply(lambda x: \" \".join([stemmer.stem(w) for w in word_tokenize(x)]))\n",
        "df[\"lemmatized\"] = df[\"processed_text\"].apply(lambda x: \" \".join([token.lemma_ for token in nlp(x)]))\n",
        "\n",
        "X_train, X_test, y_train, y_test = train_test_split(df[\"stemmed\"], df[\"target\"], test_size=0.2, random_state=42)\n",
        "vectorizer = TfidfVectorizer(max_features=5000)\n",
        "X_train_vec = vectorizer.fit_transform(X_train)\n",
        "X_test_vec = vectorizer.transform(X_test)\n",
        "\n",
        "model = LogisticRegression(max_iter=1000)\n",
        "model.fit(X_train_vec, y_train)\n",
        "acc_stem = accuracy_score(y_test, model.predict(X_test_vec))\n",
        "\n",
        "X_train, X_test, y_train, y_test = train_test_split(df[\"lemmatized\"], df[\"target\"], test_size=0.2, random_state=42)\n",
        "vectorizer = TfidfVectorizer(max_features=5000)\n",
        "X_train_vec = vectorizer.fit_transform(X_train)\n",
        "X_test_vec = vectorizer.transform(X_test)\n",
        "\n",
        "model = LogisticRegression(max_iter=1000)\n",
        "model.fit(X_train_vec, y_train)\n",
        "acc_lemma = accuracy_score(y_test, model.predict(X_test_vec))\n",
        "\n",
        "print(\"📌 Accuracy with stemming   :\", acc_stem)\n",
        "print(\"📌 Accuracy with lemmatization:\", acc_lemma)\n"
      ],
      "metadata": {
        "colab": {
          "base_uri": "https://localhost:8080/"
        },
        "id": "ODSNABaSEocF",
        "outputId": "22552bcd-1bdd-464c-93c7-13c80696e336"
      },
      "execution_count": 9,
      "outputs": [
        {
          "output_type": "stream",
          "name": "stdout",
          "text": [
            "📌 Accuracy with stemming   : 0.74225\n",
            "📌 Accuracy with lemmatization: 0.74325\n"
          ]
        }
      ]
    },
    {
      "cell_type": "code",
      "source": [
        "def pos_counts(text):\n",
        "    doc = nlp(text)\n",
        "    noun_count = sum(1 for token in doc if token.pos_ == \"NOUN\")\n",
        "    verb_count = sum(1 for token in doc if token.pos_ == \"VERB\")\n",
        "    adj_count = sum(1 for token in doc if token.pos_ == \"ADJ\")\n",
        "    return noun_count, verb_count, adj_count\n",
        "\n",
        "df[[\"nouns\", \"verbs\", \"adjs\"]] = df[\"lemmatized\"].apply(lambda x: pd.Series(pos_counts(x)))\n",
        "\n",
        "print(df[[\"lemmatized\", \"nouns\", \"verbs\", \"adjs\"]].head())\n",
        "\n",
        "from sklearn.pipeline import FeatureUnion, Pipeline\n",
        "from sklearn.preprocessing import StandardScaler\n",
        "from sklearn.compose import ColumnTransformer\n",
        "\n",
        "X_train, X_test, y_train, y_test = train_test_split(df[[\"lemmatized\", \"nouns\", \"verbs\", \"adjs\"]],\n",
        "                                                    df[\"target\"], test_size=0.2, random_state=42)\n",
        "\n",
        "tfidf = TfidfVectorizer(max_features=5000)\n",
        "\n",
        "preprocessor = ColumnTransformer(\n",
        "    transformers=[\n",
        "        (\"text\", tfidf, \"lemmatized\"),\n",
        "        (\"pos\", StandardScaler(), [\"nouns\", \"verbs\", \"adjs\"])\n",
        "    ],\n",
        "    remainder=\"drop\"\n",
        ")\n",
        "\n",
        "pipeline = Pipeline([\n",
        "    (\"features\", preprocessor),\n",
        "    (\"clf\", LogisticRegression(max_iter=1000))\n",
        "])\n",
        "\n",
        "pipeline.fit(X_train, y_train)\n",
        "y_pred = pipeline.predict(X_test)\n",
        "\n",
        "print(\"📌 Accuracy with POS features:\", accuracy_score(y_test, y_pred))\n"
      ],
      "metadata": {
        "colab": {
          "base_uri": "https://localhost:8080/"
        },
        "id": "lWWHrFrVE0jc",
        "outputId": "ac811bcb-5723-4aea-9ee4-f2c31089556f"
      },
      "execution_count": 10,
      "outputs": [
        {
          "output_type": "stream",
          "name": "stdout",
          "text": [
            "                                          lemmatized  nouns  verbs  adjs\n",
            "0                                  user ahhh hope ok      1      0     0\n",
            "1                       user cool tweet app razr NUM      1      1     0\n",
            "2  user know family drama lamehey next time u han...      8      2     2\n",
            "3  school email will not open geography stuff rev...      5      2     1\n",
            "4                               upper airway problem      2      0     1\n",
            "📌 Accuracy with POS features: 0.743\n"
          ]
        }
      ]
    },
    {
      "cell_type": "code",
      "source": [
        "!pip install gensim"
      ],
      "metadata": {
        "colab": {
          "base_uri": "https://localhost:8080/",
          "height": 721
        },
        "id": "vjwkxXPAG1rn",
        "outputId": "d18a84c9-c9eb-4351-edba-64f44632a186"
      },
      "execution_count": 23,
      "outputs": [
        {
          "output_type": "stream",
          "name": "stdout",
          "text": [
            "Collecting gensim\n",
            "  Downloading gensim-4.3.3-cp312-cp312-manylinux_2_17_x86_64.manylinux2014_x86_64.whl.metadata (8.1 kB)\n",
            "Collecting numpy<2.0,>=1.18.5 (from gensim)\n",
            "  Downloading numpy-1.26.4-cp312-cp312-manylinux_2_17_x86_64.manylinux2014_x86_64.whl.metadata (61 kB)\n",
            "\u001b[2K     \u001b[90m━━━━━━━━━━━━━━━━━━━━━━━━━━━━━━━━━━━━━━━━\u001b[0m \u001b[32m61.0/61.0 kB\u001b[0m \u001b[31m3.6 MB/s\u001b[0m eta \u001b[36m0:00:00\u001b[0m\n",
            "\u001b[?25hCollecting scipy<1.14.0,>=1.7.0 (from gensim)\n",
            "  Downloading scipy-1.13.1-cp312-cp312-manylinux_2_17_x86_64.manylinux2014_x86_64.whl.metadata (60 kB)\n",
            "\u001b[2K     \u001b[90m━━━━━━━━━━━━━━━━━━━━━━━━━━━━━━━━━━━━━━━━\u001b[0m \u001b[32m60.6/60.6 kB\u001b[0m \u001b[31m5.4 MB/s\u001b[0m eta \u001b[36m0:00:00\u001b[0m\n",
            "\u001b[?25hRequirement already satisfied: smart-open>=1.8.1 in /usr/local/lib/python3.12/dist-packages (from gensim) (7.3.1)\n",
            "Requirement already satisfied: wrapt in /usr/local/lib/python3.12/dist-packages (from smart-open>=1.8.1->gensim) (1.17.3)\n",
            "Downloading gensim-4.3.3-cp312-cp312-manylinux_2_17_x86_64.manylinux2014_x86_64.whl (26.6 MB)\n",
            "\u001b[2K   \u001b[90m━━━━━━━━━━━━━━━━━━━━━━━━━━━━━━━━━━━━━━━━\u001b[0m \u001b[32m26.6/26.6 MB\u001b[0m \u001b[31m91.0 MB/s\u001b[0m eta \u001b[36m0:00:00\u001b[0m\n",
            "\u001b[?25hDownloading numpy-1.26.4-cp312-cp312-manylinux_2_17_x86_64.manylinux2014_x86_64.whl (18.0 MB)\n",
            "\u001b[2K   \u001b[90m━━━━━━━━━━━━━━━━━━━━━━━━━━━━━━━━━━━━━━━━\u001b[0m \u001b[32m18.0/18.0 MB\u001b[0m \u001b[31m103.3 MB/s\u001b[0m eta \u001b[36m0:00:00\u001b[0m\n",
            "\u001b[?25hDownloading scipy-1.13.1-cp312-cp312-manylinux_2_17_x86_64.manylinux2014_x86_64.whl (38.2 MB)\n",
            "\u001b[2K   \u001b[90m━━━━━━━━━━━━━━━━━━━━━━━━━━━━━━━━━━━━━━━━\u001b[0m \u001b[32m38.2/38.2 MB\u001b[0m \u001b[31m15.0 MB/s\u001b[0m eta \u001b[36m0:00:00\u001b[0m\n",
            "\u001b[?25hInstalling collected packages: numpy, scipy, gensim\n",
            "  Attempting uninstall: numpy\n",
            "    Found existing installation: numpy 2.0.2\n",
            "    Uninstalling numpy-2.0.2:\n",
            "      Successfully uninstalled numpy-2.0.2\n",
            "  Attempting uninstall: scipy\n",
            "    Found existing installation: scipy 1.16.2\n",
            "    Uninstalling scipy-1.16.2:\n",
            "      Successfully uninstalled scipy-1.16.2\n",
            "\u001b[31mERROR: pip's dependency resolver does not currently take into account all the packages that are installed. This behaviour is the source of the following dependency conflicts.\n",
            "thinc 8.3.6 requires numpy<3.0.0,>=2.0.0, but you have numpy 1.26.4 which is incompatible.\n",
            "tsfresh 0.21.1 requires scipy>=1.14.0; python_version >= \"3.10\", but you have scipy 1.13.1 which is incompatible.\n",
            "opencv-python 4.12.0.88 requires numpy<2.3.0,>=2; python_version >= \"3.9\", but you have numpy 1.26.4 which is incompatible.\n",
            "opencv-python-headless 4.12.0.88 requires numpy<2.3.0,>=2; python_version >= \"3.9\", but you have numpy 1.26.4 which is incompatible.\n",
            "opencv-contrib-python 4.12.0.88 requires numpy<2.3.0,>=2; python_version >= \"3.9\", but you have numpy 1.26.4 which is incompatible.\u001b[0m\u001b[31m\n",
            "\u001b[0mSuccessfully installed gensim-4.3.3 numpy-1.26.4 scipy-1.13.1\n"
          ]
        },
        {
          "output_type": "display_data",
          "data": {
            "application/vnd.colab-display-data+json": {
              "pip_warning": {
                "packages": [
                  "numpy",
                  "scipy"
                ]
              },
              "id": "dc4cbc33d92746b3bc442e1d87dd0902"
            }
          },
          "metadata": {}
        }
      ]
    },
    {
      "cell_type": "code",
      "source": [
        "\n",
        "from sklearn.feature_extraction.text import CountVectorizer, TfidfVectorizer\n",
        "import gensim.downloader as api\n",
        "import numpy as np\n",
        "\n",
        "bow_vectorizer = CountVectorizer(max_features=5000)\n",
        "X_bow = bow_vectorizer.fit_transform(df[\"lemmatized\"])\n",
        "\n",
        "tfidf_vectorizer = TfidfVectorizer(max_features=5000)\n",
        "X_tfidf = tfidf_vectorizer.fit_transform(df[\"lemmatized\"])\n",
        "\n",
        "print(\"Loading Word2Vec embeddings (GoogleNews, may take time)...\")\n",
        "w2v = api.load(\"word2vec-google-news-300\")  # 300-dim embeddings\n",
        "\n",
        "def get_w2v_vector(text):\n",
        "    words = [w for w in word_tokenize(text) if w in w2v]\n",
        "    if len(words) == 0:\n",
        "        return np.zeros(300)\n",
        "    return np.mean([w2v[w] for w in words], axis=0)\n",
        "\n",
        "X_w2v = np.vstack(df[\"lemmatized\"].apply(get_w2v_vector).values)\n",
        "\n",
        "print(\"BoW shape   :\", X_bow.shape)\n",
        "print(\"TF–IDF shape:\", X_tfidf.shape)\n",
        "print(\"Word2Vec shape:\", X_w2v.shape)\n"
      ],
      "metadata": {
        "colab": {
          "base_uri": "https://localhost:8080/"
        },
        "id": "xmgoJIVcFdxv",
        "outputId": "1efdf0f3-64b1-4d34-dc85-eee3d45bbe17"
      },
      "execution_count": 11,
      "outputs": [
        {
          "output_type": "stream",
          "name": "stdout",
          "text": [
            "Loading Word2Vec embeddings (GoogleNews, may take time)...\n",
            "[==================================================] 100.0% 1662.8/1662.8MB downloaded\n",
            "BoW shape   : (20000, 5000)\n",
            "TF–IDF shape: (20000, 5000)\n",
            "Word2Vec shape: (20000, 300)\n"
          ]
        }
      ]
    },
    {
      "cell_type": "code",
      "source": [
        "from sklearn.naive_bayes import MultinomialNB\n",
        "from sklearn.svm import LinearSVC\n",
        "from sklearn.metrics import accuracy_score, f1_score\n",
        "from sklearn.pipeline import Pipeline\n",
        "\n",
        "X_train, X_test, y_train, y_test = train_test_split(df[\"lemmatized\"], df[\"target\"], test_size=0.2, random_state=42)\n",
        "\n",
        "results = []\n",
        "\n",
        "for name, vectorizer in [(\"BoW\", CountVectorizer(max_features=5000)),\n",
        "                         (\"TFIDF\", TfidfVectorizer(max_features=5000))]:\n",
        "    for clf_name, clf in [(\"NaiveBayes\", MultinomialNB()),\n",
        "                          (\"LogReg\", LogisticRegression(max_iter=1000)),\n",
        "                          (\"LinearSVM\", LinearSVC())]:\n",
        "        pipe = Pipeline([\n",
        "            (\"vect\", vectorizer),\n",
        "            (\"clf\", clf)\n",
        "        ])\n",
        "        pipe.fit(X_train, y_train)\n",
        "        y_pred = pipe.predict(X_test)\n",
        "        acc = accuracy_score(y_test, y_pred)\n",
        "        f1 = f1_score(y_test, y_pred, pos_label=\"positive\")\n",
        "        results.append([name, clf_name, acc, f1])\n",
        "\n",
        "X_train_w2v, X_test_w2v, y_train_w2v, y_test_w2v = train_test_split(X_w2v, df[\"target\"], test_size=0.2, random_state=42)\n",
        "\n",
        "for clf_name, clf in [(\"LogReg\", LogisticRegression(max_iter=1000)),\n",
        "                      (\"LinearSVM\", LinearSVC())]:\n",
        "    clf.fit(X_train_w2v, y_train_w2v)\n",
        "    y_pred = clf.predict(X_test_w2v)\n",
        "    acc = accuracy_score(y_test_w2v, y_pred)\n",
        "    f1 = f1_score(y_test_w2v, y_pred, pos_label=\"positive\")\n",
        "    results.append([\"Word2Vec\", clf_name, acc, f1])\n",
        "\n",
        "results_df = pd.DataFrame(results, columns=[\"Representation\", \"Model\", \"Accuracy\", \"F1-score\"])\n",
        "print(results_df)\n"
      ],
      "metadata": {
        "colab": {
          "base_uri": "https://localhost:8080/"
        },
        "id": "tJgH0ksJJdG7",
        "outputId": "843f2aa3-e945-4d7e-84b5-45488b3d698b"
      },
      "execution_count": 12,
      "outputs": [
        {
          "output_type": "stream",
          "name": "stdout",
          "text": [
            "  Representation       Model  Accuracy  F1-score\n",
            "0            BoW  NaiveBayes   0.73600  0.742313\n",
            "1            BoW      LogReg   0.73650  0.743427\n",
            "2            BoW   LinearSVM   0.71725  0.722318\n",
            "3          TFIDF  NaiveBayes   0.73625  0.741231\n",
            "4          TFIDF      LogReg   0.74325  0.749695\n",
            "5          TFIDF   LinearSVM   0.72700  0.732222\n",
            "6       Word2Vec      LogReg   0.72700  0.733659\n",
            "7       Word2Vec   LinearSVM   0.72525  0.731755\n"
          ]
        }
      ]
    },
    {
      "cell_type": "code",
      "source": [
        "from sklearn.metrics import classification_report, confusion_matrix, ConfusionMatrixDisplay\n",
        "\n",
        "best_pipe = Pipeline([\n",
        "    (\"vect\", TfidfVectorizer(max_features=5000)),\n",
        "    (\"clf\", LogisticRegression(max_iter=1000))\n",
        "])\n",
        "best_pipe.fit(X_train, y_train)\n",
        "y_pred = best_pipe.predict(X_test)\n",
        "\n",
        "print(classification_report(y_test, y_pred, digits=3))\n",
        "\n",
        "cm = confusion_matrix(y_test, y_pred, labels=[\"negative\", \"positive\"])\n",
        "disp = ConfusionMatrixDisplay(confusion_matrix=cm, display_labels=[\"negative\", \"positive\"])\n",
        "disp.plot(cmap=\"Blues\")\n",
        "plt.show()\n",
        "\n",
        "misclassified = X_test[y_test != y_pred]\n",
        "y_true_mis = y_test[y_test != y_pred]\n",
        "y_pred_mis = y_pred[y_test != y_pred]\n",
        "\n",
        "print(\"\\n📌 Example Misclassified Tweets:\")\n",
        "for i in range(10):\n",
        "    print(f\"Tweet: {misclassified.iloc[i]}\")\n",
        "    print(f\"True: {y_true_mis.iloc[i]} | Predicted: {y_pred_mis[i]}\")\n",
        "    print(\"-\"*60)\n"
      ],
      "metadata": {
        "colab": {
          "base_uri": "https://localhost:8080/",
          "height": 1000
        },
        "id": "tqJJxLLZKzT9",
        "outputId": "565ff169-6ab3-4978-aa4d-a04a2dfaade8"
      },
      "execution_count": 13,
      "outputs": [
        {
          "output_type": "stream",
          "name": "stdout",
          "text": [
            "              precision    recall  f1-score   support\n",
            "\n",
            "    negative      0.751     0.722     0.736      1987\n",
            "    positive      0.736     0.764     0.750      2013\n",
            "\n",
            "    accuracy                          0.743      4000\n",
            "   macro avg      0.744     0.743     0.743      4000\n",
            "weighted avg      0.744     0.743     0.743      4000\n",
            "\n"
          ]
        },
        {
          "output_type": "display_data",
          "data": {
            "text/plain": [
              "<Figure size 640x480 with 2 Axes>"
            ],
            "image/png": "[encoded data removed]"
          },
          "metadata": {}
        },
        {
          "output_type": "stream",
          "name": "stdout",
          "text": [
            "\n",
            "📌 Example Misclassified Tweets:\n",
            "Tweet: add new zodiac sign wan na scorpio forever\n",
            "True: negative | Predicted: positive\n",
            "------------------------------------------------------------\n",
            "Tweet: ooh ie NUM look kinda flasher NUM seem fair bit quick I m still go to stick ff\n",
            "True: positive | Predicted: negative\n",
            "------------------------------------------------------------\n",
            "Tweet: user oku work I m go to check vampire news\n",
            "True: positive | Predicted: negative\n",
            "------------------------------------------------------------\n",
            "Tweet: crave macha chocolate cake\n",
            "True: negative | Predicted: positive\n",
            "------------------------------------------------------------\n",
            "Tweet: user\n",
            "True: negative | Predicted: positive\n",
            "------------------------------------------------------------\n",
            "Tweet: gmorne twitt ready wknd first work tgif\n",
            "True: negative | Predicted: positive\n",
            "------------------------------------------------------------\n",
            "Tweet: user zaru soba cold buckwheat noodle yummy dipping sauce anddd bento box japanese lunch box love food\n",
            "True: negative | Predicted: positive\n",
            "------------------------------------------------------------\n",
            "Tweet: go swimming cause pool sooo amazingly warm\n",
            "True: positive | Predicted: negative\n",
            "------------------------------------------------------------\n",
            "Tweet: user user can not believe kenny have not say word yet\n",
            "True: positive | Predicted: negative\n",
            "------------------------------------------------------------\n",
            "Tweet: user sound lovely ant hair kiss\n",
            "True: negative | Predicted: positive\n",
            "------------------------------------------------------------\n"
          ]
        }
      ]
    },
    {
      "cell_type": "code",
      "source": [
        "import joblib\n",
        "\n",
        "joblib.dump(best_pipe, \"sentiment_model.pkl\")\n",
        "\n",
        "print(\"✅ Model saved as sentiment_model.pkl\")\n"
      ],
      "metadata": {
        "colab": {
          "base_uri": "https://localhost:8080/"
        },
        "id": "e4qcebwgLBoI",
        "outputId": "25acc51d-98fc-49cb-b6aa-c03647c81cef"
      },
      "execution_count": 14,
      "outputs": [
        {
          "output_type": "stream",
          "name": "stdout",
          "text": [
            "✅ Model saved as sentiment_model.pkl\n"
          ]
        }
      ]
    },
    {
      "cell_type": "code",
      "source": [
        "from google.colab import files\n",
        "files.download(\"sentiment_model.pkl\")\n"
      ],
      "metadata": {
        "colab": {
          "base_uri": "https://localhost:8080/",
          "height": 17
        },
        "id": "ex9F0BibMlMc",
        "outputId": "793d1b2e-e1ae-4fa5-d65f-b2f9c2167cc8"
      },
      "execution_count": 15,
      "outputs": [
        {
          "output_type": "display_data",
          "data": {
            "text/plain": [
              "<IPython.core.display.Javascript object>"
            ],
            "application/javascript": [
              "\n",
              "    async function download(id, filename, size) {\n",
              "      if (!google.colab.kernel.accessAllowed) {\n",
              "        return;\n",
              "      }\n",
              "      const div = document.createElement('div');\n",
              "      const label = document.createElement('label');\n",
              "      label.textContent = `Downloading \"${filename}\": `;\n",
              "      div.appendChild(label);\n",
              "      const progress = document.createElement('progress');\n",
              "      progress.max = size;\n",
              "      div.appendChild(progress);\n",
              "      document.body.appendChild(div);\n",
              "\n",
              "      const buffers = [];\n",
              "      let downloaded = 0;\n",
              "\n",
              "      const channel = await google.colab.kernel.comms.open(id);\n",
              "      // Send a message to notify the kernel that we're ready.\n",
              "      channel.send({})\n",
              "\n",
              "      for await (const message of channel.messages) {\n",
              "        // Send a message to notify the kernel that we're ready.\n",
              "        channel.send({})\n",
              "        if (message.buffers) {\n",
              "          for (const buffer of message.buffers) {\n",
              "            buffers.push(buffer);\n",
              "            downloaded += buffer.byteLength;\n",
              "            progress.value = downloaded;\n",
              "          }\n",
              "        }\n",
              "      }\n",
              "      const blob = new Blob(buffers, {type: 'application/binary'});\n",
              "      const a = document.createElement('a');\n",
              "      a.href = window.URL.createObjectURL(blob);\n",
              "      a.download = filename;\n",
              "      div.appendChild(a);\n",
              "      a.click();\n",
              "      div.remove();\n",
              "    }\n",
              "  "
            ]
          },
          "metadata": {}
        },
        {
          "output_type": "display_data",
          "data": {
            "text/plain": [
              "<IPython.core.display.Javascript object>"
            ],
            "application/javascript": [
              "download(\"download_f8980ebe-160d-4f92-90fe-a95121206486\", \"sentiment_model.pkl\", 219444)"
            ]
          },
          "metadata": {}
        }
      ]
    },
    {
      "cell_type": "code",
      "source": [
        "from flask import Flask, request, jsonify\n",
        "import joblib\n",
        "\n",
        "model = joblib.load(\"sentiment_model.pkl\")\n",
        "\n",
        "app = Flask(__name__)\n",
        "\n",
        "@app.route(\"/predict\", methods=[\"POST\"])\n",
        "def predict():\n",
        "    data = request.get_json()\n",
        "    if \"text\" not in data:\n",
        "        return jsonify({\"error\": \"No text field provided\"}), 400\n",
        "\n",
        "    tweet = data[\"text\"]\n",
        "    prediction = model.predict([tweet])[0]\n",
        "    return jsonify({\"text\": tweet, \"prediction\": prediction})\n",
        "\n",
        "if __name__ == \"__main__\":\n",
        "    app.run(host=\"0.0.0.0\", port=5000, debug=True)\n"
      ],
      "metadata": {
        "colab": {
          "base_uri": "https://localhost:8080/"
        },
        "id": "PXW6RmwbMw3A",
        "outputId": "652a8ae7-ddce-4a12-f78d-1c3069907d11"
      },
      "execution_count": null,
      "outputs": [
        {
          "output_type": "stream",
          "name": "stdout",
          "text": [
            " * Serving Flask app '__main__'\n",
            " * Debug mode: on\n"
          ]
        },
        {
          "output_type": "stream",
          "name": "stderr",
          "text": [
            "INFO:werkzeug:\u001b[31m\u001b[1mWARNING: This is a development server. Do not use it in a production deployment. Use a production WSGI server instead.\u001b[0m\n",
            " * Running on all addresses (0.0.0.0)\n",
            " * Running on http://127.0.0.1:5000\n",
            " * Running on http://172.28.0.12:5000\n",
            "INFO:werkzeug:\u001b[33mPress CTRL+C to quit\u001b[0m\n",
            "INFO:werkzeug: * Restarting with watchdog (inotify)\n"
          ]
        }
      ]
    },
    {
      "cell_type": "code",
      "source": [
        "!pip install flask ngrok\n",
        "from flask import Flask\n",
        "from flask_ngrok import run_with_ngrok\n",
        "\n",
        "app = Flask(__name__)\n",
        "run_with_ngrok(app)\n",
        "\n",
        "@app.route(\"/\")\n",
        "def home():\n",
        "    return \"Flask Sentiment API is running!\"\n",
        "\n",
        "app.run()\n"
      ],
      "metadata": {
        "id": "CKLYjNETNSZU"
      },
      "execution_count": null,
      "outputs": []
    },
    {
      "cell_type": "code",
      "source": [],
      "metadata": {
        "id": "EB3cyeQhNkCj"
      },
      "execution_count": null,
      "outputs": []
    }
  ]
}